{
 "cells": [
  {
   "cell_type": "markdown",
   "metadata": {},
   "source": [
    "**Data fusion** is the problem of how to make inferences about the joint distribution of two sets of random variables when only information on marginal distribution of each set is available."
   ]
  },
  {
   "cell_type": "markdown",
   "metadata": {},
   "source": [
    "Our goal can than be succinetly stated as the computation of the predictive distribution of $(b,m)$ given the data $D = (D_b, D_m)$.The predictive distribution is obtained by integrating out over the **parameters of the joint distribution**, $p(b,m|D) = \\int{p(b,m|\\theta,D)}d\\theta.$"
   ]
  },
  {
   "cell_type": "markdown",
   "metadata": {},
   "source": [
    "Because b and m are not observed jointly but only seperately, we must provide a model for the conditional distribution of $(b,m)$ given $x.$\n",
    "\n",
    "We begin with the assumption of conditional independence: $p(b,m|x,\\theta) = p(b|x,\\theta)p(m|x,\\theta).$"
   ]
  },
  {
   "cell_type": "markdown",
   "metadata": {},
   "source": [
    "Under the assumption of conditional independence, the predictive distribution of $b$ and $m$ can be computed as follows:\n",
    "\n",
    "$p(b,m|D)=\\int\\int{p(b,m|x,\\theta)p(x)p(\\theta|D)}dxd\\theta = \\int\\int{p(b|x,\\theta)p(m|x,\\theta)p(x)p(\\theta|D)}dxd\\theta$\n",
    "\n",
    "where $p(\\theta|D)$ is the posterior distribution of the parameters given the two data sets and $p(x)$ is the marginal distribution of the common variables."
   ]
  },
  {
   "cell_type": "markdown",
   "metadata": {},
   "source": [
    "It may be useful to view the preceding inner integral as the expectation of the conditional distribution of $(b,m)$ given $x$ and $\\theta$ with respect to the marginal distribution of $x$ variables:\n",
    "$$p(b,m|D) = E_{\\theta|D}[E_x[p(b,m|x,\\theta)]$$ "
   ]
  },
  {
   "cell_type": "markdown",
   "metadata": {},
   "source": [
    "Our approach to computing the predictive distribution of b and m is to form the expectation:\n",
    "$$p(b,m|D) = E_{\\theta|D}E_x[p(b,m|x,\\theta)] = E_{\\theta|D}[\\frac 1 {N_b+N_m}\\sum_{x\\in D}p(b|x_i.\\theta)p(m|x_i,\\theta)]$$\n",
    "\n",
    "用均值估计期望"
   ]
  },
  {
   "cell_type": "code",
   "execution_count": null,
   "metadata": {
    "collapsed": true
   },
   "outputs": [],
   "source": []
  }
 ],
 "metadata": {
  "anaconda-cloud": {},
  "kernelspec": {
   "display_name": "Python [Root]",
   "language": "python",
   "name": "Python [Root]"
  },
  "language_info": {
   "codemirror_mode": {
    "name": "ipython",
    "version": 3
   },
   "file_extension": ".py",
   "mimetype": "text/x-python",
   "name": "python",
   "nbconvert_exporter": "python",
   "pygments_lexer": "ipython3",
   "version": "3.5.2"
  }
 },
 "nbformat": 4,
 "nbformat_minor": 0
}
